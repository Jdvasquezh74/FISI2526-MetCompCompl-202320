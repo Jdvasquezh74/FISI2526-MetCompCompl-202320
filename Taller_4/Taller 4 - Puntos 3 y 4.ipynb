{
 "cells": [
  {
   "cell_type": "markdown",
   "metadata": {},
   "source": [
    "## 3. Distribuciones de probabilidad continuas\n",
    "\n",
    "1. Suponga que el error en la temperatura en un experimento controlado de laboratorio es una variable aleatoria continua X, que tiene la siguiente función de densidad de probabilidad:\n",
    "\n",
    "\\begin{equation}\n",
    "f(x) = \\left \\{ \\begin{aligned} \\frac{x^2}{3} &\\ (-1 \\leq x \\leq 2) \\\\ 0 \\ &(\\text{en otro caso})\n",
    "\\end{aligned} \n",
    "\\right .\n",
    "\\end{equation}\n",
    "\n",
    "Encuentre las probabilidades:\n",
    "\n",
    "a) P(0 < X $\\leq$ 1)\\\n",
    "b) P(1 < X $\\leq$ 2)"
   ]
  },
  {
   "cell_type": "code",
   "execution_count": 8,
   "metadata": {},
   "outputs": [
    {
     "name": "stdout",
     "output_type": "stream",
     "text": [
      "La probabilidad de P(0 < X <= 1)  es de 0.111\n",
      "La probabilidad de P(1 < X <= 2)  es de 0.778\n"
     ]
    }
   ],
   "source": [
    "from scipy.integrate import quad\n",
    "\n",
    "def f(x):\n",
    "    return x**2/3\n",
    "\n",
    "#a) Se obtiene la probabilidad según la distribución continua de probabilidad\n",
    "#con la integral apropiada\n",
    "\n",
    "print(\"La probabilidad de P(0 < X <= 1)  es de\", round(quad(f, 0, 1)[0],3))\n",
    "\n",
    "#b) Se obtiene la probabilidad de la misma manera que en el literal a\n",
    "\n",
    "print(\"La probabilidad de P(1 < X <= 2)  es de\", round(quad(f, 1, 2)[0],3))"
   ]
  },
  {
   "cell_type": "markdown",
   "metadata": {},
   "source": [
    "2. Se supone que las calificaciones de un examen están normalmente distribuidas con media 78 y varianza\n",
    "de 36.\n",
    "\n",
    "a) ¿Cuál es la probabilidad de que una persona que haga el examen alcance  calificaciones mayores de 72?\n",
    "\n",
    "b) Suponga que los estudiantes que alcancen el 10% más alto de esta distribución reciben una calificación de A. ¿Cuál es la calificación mínima que un estudiante debe recibir para ganar una calificación de A?\n",
    "\n",
    "c) ¿Cuál debe ser el punto límite para pasar el examen si el examinador desea pasar a sólo 28,1 % más alto de todas las calificaciones?\n",
    "\n",
    "d) Aproximadamente qué proporción de estudiantes tienen calificaciones de 5 o más puntos arriba de la calificación que corta al 25 % más bajo?\n",
    "\n",
    "e) Si se sabe que la calificación de un estudiante excede de 72, ¿cuál es la probabilidad de que su calificación exceda de 84?\n"
   ]
  },
  {
   "cell_type": "code",
   "execution_count": 18,
   "metadata": {},
   "outputs": [
    {
     "name": "stdout",
     "output_type": "stream",
     "text": [
      "a) Probabilidad puntaje > 72 = 0.569\n",
      "b) Nota mínima percentil-10 más alto = 124.14\n",
      "c) Punto límite 28.1% más alto = 98.88\n",
      "d) Proporción >= 58.718 = 0.704\n",
      "e) Probabilidad puntaje > 84 si se sabe puntaje > 72 = 0.757\n"
     ]
    }
   ],
   "source": [
    "import numpy as np\n",
    "from scipy.stats import norm\n",
    "\n",
    "#Se generan datos para la distribución normal acorde a la media y varianza \n",
    "#especificadas en el ejercicio\n",
    "mu = 78\n",
    "sigma = 36\n",
    "N = 10000\n",
    "x = np.random.normal(mu,sigma,N)\n",
    "\n",
    "#a) \n",
    "conteo = 0 \n",
    "for i in x:\n",
    "    if i > 72:\n",
    "        conteo +=1\n",
    "print(\"a) Probabilidad puntaje > 72 =\", round(conteo/N, 3))\n",
    "\n",
    "#b) Se calcula el valor en el cual se obtiene el 90% de la distribución\n",
    "#que a su vez es el mínimo dato del percentil-10 más alto\n",
    "print(\"b) Nota mínima percentil-10 más alto =\", round(norm.ppf(0.90,mu,sigma), 2))\n",
    "\n",
    "#c)\n",
    "print(\"c) Punto límite 28.1% más alto =\", round(norm.ppf(1-0.281,mu,sigma), 2))\n",
    "\n",
    "#d)\n",
    "limite = norm.ppf(0.25,mu,sigma)\n",
    "conteo = 0 \n",
    "for i in x:\n",
    "    if i >= limite + 5:\n",
    "        conteo +=1\n",
    "print(\"d) Proporción >=\",round(limite+5,3),\"=\", round(conteo/N, 3))\n",
    "\n",
    "#e) Se toma la probabilidad de que se obtenga un puntaje mayor de 72, tomando\n",
    "#esta probabilidad como el máximo de proporción, se calcula la distribución de\n",
    "#la probabilidad de que el puntaje sea mayor a 84\n",
    "conteo = 0 \n",
    "for i in x:\n",
    "    if i > 72:\n",
    "        conteo +=1\n",
    "rango = conteo/N\n",
    "conteo = 0 \n",
    "for i in x:\n",
    "    if i > 84:\n",
    "        conteo +=1\n",
    "proporcionInicial = conteo/N\n",
    "print(\"e) Probabilidad puntaje > 84 si se sabe puntaje > 72 =\", round(proporcionInicial/rango,3))"
   ]
  },
  {
   "cell_type": "markdown",
   "metadata": {},
   "source": [
    "## 4. Cadenas de Markov\n",
    "\n",
    "Las bases nitrogenadas fundamentales que componen el ADN son: Adenina (A), Citosina (C), Guanina (G) y Timina (T). Un gen se puede representar a través de una secuencia ordenada de dichas bases. Suponga la siguiente matriz de transición entre bases:\n",
    "\n",
    "\\begin{equation}\n",
    "\\mathbb{T} = \\left(\n",
    "\\begin{matrix}\n",
    " & A & C & G & T\\\\\n",
    "A & 0,4 & 0,25 & 0,3 & 0,1\\\\\n",
    "C & 0,2 & 0,25 & 0,3 & 0,1\\\\\n",
    "G & 0,2 & 0,25 & 0,1 & 0,1\\\\\n",
    "T & 0,2 & 0,25 & 0,3 & 0,7\n",
    "\\end{matrix}\n",
    "\\right)\n",
    "\\end{equation}\n",
    "\n",
    "La probabilidad a priori está dada por $\\pi$ = [0,25, 0, 0,5, 0,25].\n",
    "1. Encuentre la probabilidad de obtener el gen $g$ = [T, G, C, T, C, A, A, A].\n",
    "2. Estas bases nitrogenadas pasarán por un proceso de traducción donde el objetivo es que se traduzcan A − U, C − G, G − C, T − A según la siguiente matriz de emisión\n",
    "\n",
    "\\begin{equation}\n",
    "\\mathbb{E} = \\left(\n",
    "\\begin{matrix}\n",
    " & A & C & G & T\\\\\n",
    "U & 0,8 & 0 & 0 & 0,2\\\\\n",
    "C & 0,05 & 0,9 & 0,1 & 0,1\\\\\n",
    "G & 0,05 & 0,1 & 0,9 & 0\\\\\n",
    "A & 0,1 & 0 & 0 & 0,7\n",
    "\\end{matrix}\n",
    "\\right)\n",
    "\\end{equation}\n",
    "\n",
    "Si un gen traducido está dado por $g_{T}$ = [A, C, G, A, G, U, U, U], ¿cuál es la probabilidad de que venga del gen $g$ anterior?\n"
   ]
  },
  {
   "cell_type": "code",
   "execution_count": 2,
   "metadata": {},
   "outputs": [
    {
     "name": "stdout",
     "output_type": "stream",
     "text": [
      "[1. 1. 1. 1.]\n"
     ]
    }
   ],
   "source": [
    "import numpy as np\n",
    "\n",
    "#a)\n",
    "\n",
    "#Se define el alfabeto para la situación planteada\n",
    "Dict = { 0: 'A', 1: 'C', 2: 'G', 3: 'T'}\n",
    "\n",
    "T = np.array([[0.4,0.25,0.30,0.10],\\\n",
    "              [0.2,0.25,0.30,0.10],\\\n",
    "              [0.2,0.25,0.10,0.10],\\\n",
    "              [0.2,0.25,0.30,0.70],\\\n",
    "             ])\n",
    "\n",
    "#Comprobamos que se cumpla la condición base para Markov (todas las columnas\n",
    "#deben dar una suma de 1)\n",
    "print(np.sum(T,axis=0))\n",
    "\n",
    "initial = np.array([0.25,0.,0.5,0.25])"
   ]
  }
 ],
 "metadata": {
  "kernelspec": {
   "display_name": "Python 3",
   "language": "python",
   "name": "python3"
  },
  "language_info": {
   "codemirror_mode": {
    "name": "ipython",
    "version": 3
   },
   "file_extension": ".py",
   "mimetype": "text/x-python",
   "name": "python",
   "nbconvert_exporter": "python",
   "pygments_lexer": "ipython3",
   "version": "3.7.7"
  }
 },
 "nbformat": 4,
 "nbformat_minor": 2
}
