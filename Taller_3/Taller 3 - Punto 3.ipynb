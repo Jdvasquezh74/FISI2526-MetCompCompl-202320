{
 "cells": [
  {
   "cell_type": "markdown",
   "metadata": {},
   "source": [
    "3.\n",
    "\n",
    "Con m1 = m2 = m3 = 1 y K = 1.\n",
    "\n",
    "En primer lugar, el mayor valor absoluto:"
   ]
  },
  {
   "cell_type": "code",
   "execution_count": 21,
   "metadata": {},
   "outputs": [
    {
     "name": "stdout",
     "output_type": "stream",
     "text": [
      "-3.414213562373095\n"
     ]
    }
   ],
   "source": [
    "import numpy as np\n",
    "\n",
    "def valor_propio(A, num_iterations):\n",
    "    n = A.shape[0]\n",
    "    x = np.random.rand(n)\n",
    "    for _ in range(num_iterations):\n",
    "        x = np.dot(A, x)\n",
    "        x = x / np.linalg.norm(x)\n",
    "    valorpr = np.dot(x, np.dot(A, x))\n",
    "    return valorpr\n",
    "\n",
    "A = np.array([[-2, 1, 0],[1, -2, 1], [0, 1, -2]])\n",
    "num = 2000\n",
    "\n",
    "print(valor_propio(A, 200000))"
   ]
  },
  {
   "cell_type": "markdown",
   "metadata": {},
   "source": [
    "Y ahora el de menor valor absoluto:"
   ]
  },
  {
   "cell_type": "code",
   "execution_count": 22,
   "metadata": {},
   "outputs": [
    {
     "name": "stdout",
     "output_type": "stream",
     "text": [
      "-0.585786437626905\n"
     ]
    }
   ],
   "source": [
    "\n",
    "A = np.linalg.inv(A)\n",
    "\n",
    "print(1/valor_propio(A, 200000))"
   ]
  },
  {
   "cell_type": "markdown",
   "metadata": {},
   "source": [
    "Con lo cual:\n",
    "\n",
    "$\\omega_{min} = \\sqrt{3.414213} = 1.8477$\n",
    "\n",
    "y:\n",
    "\n",
    "$\\omega_{max} = \\sqrt{0.58578} = 0.7653$"
   ]
  }
 ],
 "metadata": {
  "kernelspec": {
   "display_name": "Python 3",
   "language": "python",
   "name": "python3"
  },
  "language_info": {
   "codemirror_mode": {
    "name": "ipython",
    "version": 3
   },
   "file_extension": ".py",
   "mimetype": "text/x-python",
   "name": "python",
   "nbconvert_exporter": "python",
   "pygments_lexer": "ipython3",
   "version": "3.9.1"
  }
 },
 "nbformat": 4,
 "nbformat_minor": 2
}
